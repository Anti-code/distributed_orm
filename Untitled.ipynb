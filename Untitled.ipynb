{
 "cells": [
  {
   "cell_type": "code",
   "execution_count": 33,
   "metadata": {},
   "outputs": [
    {
     "ename": "ImportError",
     "evalue": "cannot import name 'DATABASE_NAME'",
     "output_type": "error",
     "traceback": [
      "\u001b[0;31m-------------------------------------------------------------\u001b[0m",
      "\u001b[0;31mImportError\u001b[0m                 Traceback (most recent call last)",
      "\u001b[0;32m<ipython-input-33-2a6724c192ea>\u001b[0m in \u001b[0;36m<module>\u001b[0;34m()\u001b[0m\n\u001b[1;32m      9\u001b[0m \u001b[0;32mfrom\u001b[0m \u001b[0mdatabase\u001b[0m \u001b[0;32mimport\u001b[0m \u001b[0mmodels\u001b[0m\u001b[0;34m\u001b[0m\u001b[0m\n\u001b[1;32m     10\u001b[0m \u001b[0;32mfrom\u001b[0m \u001b[0mdatabase\u001b[0m\u001b[0;34m.\u001b[0m\u001b[0mdrivers\u001b[0m \u001b[0;32mimport\u001b[0m \u001b[0mSqlite\u001b[0m\u001b[0;34m\u001b[0m\u001b[0m\n\u001b[0;32m---> 11\u001b[0;31m \u001b[0;32mfrom\u001b[0m \u001b[0mservices\u001b[0m\u001b[0;34m.\u001b[0m\u001b[0mrestful\u001b[0m \u001b[0;32mimport\u001b[0m \u001b[0mrest\u001b[0m\u001b[0;34m,\u001b[0m \u001b[0mapp\u001b[0m\u001b[0;34m\u001b[0m\u001b[0m\n\u001b[0m",
      "\u001b[0;32m/run/media/fool/lin/scientific_orm/src/services/restful.py\u001b[0m in \u001b[0;36m<module>\u001b[0;34m()\u001b[0m\n\u001b[1;32m      9\u001b[0m \u001b[0;34m\u001b[0m\u001b[0m\n\u001b[1;32m     10\u001b[0m \u001b[0;32mfrom\u001b[0m \u001b[0mdatabase\u001b[0m\u001b[0;34m.\u001b[0m\u001b[0mdrivers\u001b[0m \u001b[0;32mimport\u001b[0m \u001b[0mSqlite\u001b[0m\u001b[0;34m\u001b[0m\u001b[0m\n\u001b[0;32m---> 11\u001b[0;31m \u001b[0;32mfrom\u001b[0m \u001b[0mconfig\u001b[0m \u001b[0;32mimport\u001b[0m \u001b[0mDATABASE_NAME\u001b[0m\u001b[0;34m\u001b[0m\u001b[0m\n\u001b[0m\u001b[1;32m     12\u001b[0m \u001b[0;34m\u001b[0m\u001b[0m\n\u001b[1;32m     13\u001b[0m \u001b[0mapp\u001b[0m \u001b[0;34m=\u001b[0m \u001b[0mSanic\u001b[0m\u001b[0;34m(\u001b[0m\u001b[0mname\u001b[0m\u001b[0;34m=\u001b[0m\u001b[0m__name__\u001b[0m\u001b[0;34m)\u001b[0m\u001b[0;34m\u001b[0m\u001b[0m\n",
      "\u001b[0;31mImportError\u001b[0m: cannot import name 'DATABASE_NAME'"
     ]
    }
   ],
   "source": [
    "# built-in\n",
    "from datetime import datetime\n",
    "\n",
    "# 3rd party\n",
    "import matplotlib.pyplot as plt\n",
    "%matplotlib inline\n",
    "\n",
    "# framework\n",
    "from database import models\n",
    "from database.drivers import Sqlite\n",
    "from services.restful import rest, app"
   ]
  },
  {
   "cell_type": "code",
   "execution_count": 3,
   "metadata": {
    "collapsed": true
   },
   "outputs": [],
   "source": [
    "\n",
    "class Question(models.Model):\n",
    "    question_text = models.Char(max_length=200)\n",
    "    pub_date = models.DateTime()\n",
    "\n",
    "class Choice(models.Model):\n",
    "    question = models.ForeignKey(Question)\n",
    "    choice_text = models.Char(max_length=200)\n",
    "    votes = models.Integer()\n",
    "\n",
    "with Sqlite(\"poll.db\") as db:\n",
    "    try:\n",
    "        db.create_table(Question)\n",
    "        db.create_table(Choice)\n",
    "    except Exception:\n",
    "        pass\n",
    "    # insert some data\n",
    "    question = Question(question_text=\"What is your favorite color?\", pub_date=datetime.now())\n",
    "    question.save()\n",
    "    choice_1 = Choice(question=question.id, choice_text=\"green\", votes=0)\n",
    "    choice_2 = Choice(question=question.id, choice_text=\"yellow\", votes=0)\n",
    "    choice_1.save()\n",
    "    choice_2.save()\n",
    "\n",
    "# read from database\n",
    "with Sqlite(\"poll.db\") as db:\n",
    "    first_question = Question.select().where(id=1).first()\n",
    "    red_choices = Choice.select().where(choice_text=\"red\").all()\n",
    "\n",
    "    # Get results as pandas.DataFrame\n",
    "    all_choices_as_df = Choice.select().as_df()    \n",
    "    \n",
    "# assuming Question and Choice data already registered in databases    \n",
    "with Sqlite(\"poll_1.db\"), Sqlite(\"poll_2.db\"):\n",
    "    # get dask distributed dataframe\n",
    "    ddf = Choice.select().as_distributed_df()\n",
    "    result = ddf.votes.value_counts().compute()"
   ]
  },
  {
   "cell_type": "code",
   "execution_count": 32,
   "metadata": {},
   "outputs": [
    {
     "data": {
      "image/png": "[encoded data removed]",
      "text/plain": [
       "<matplotlib.figure.Figure at 0x7fc74bc9dcc0>"
      ]
     },
     "metadata": {},
     "output_type": "display_data"
    }
   ],
   "source": [
    "graph = result.sort_values()[-10:].plot.bar(figsize=(10, 5), fontsize=16)\n",
    "plt.xlabel('vote id', fontsize=16)\n",
    "plt.title = \"Most Common Votes\"\n",
    "plt.ylabel('vote count', fontsize=16)\n",
    "plt.show()"
   ]
  },
  {
   "cell_type": "code",
   "execution_count": null,
   "metadata": {
    "collapsed": true
   },
   "outputs": [],
   "source": []
  }
 ],
 "metadata": {
  "kernelspec": {
   "display_name": "Python 3",
   "language": "python",
   "name": "python3"
  },
  "language_info": {
   "codemirror_mode": {
    "name": "ipython",
    "version": 3
   },
   "file_extension": ".py",
   "mimetype": "text/x-python",
   "name": "python",
   "nbconvert_exporter": "python",
   "pygments_lexer": "ipython3",
   "version": "3.6.1"
  }
 },
 "nbformat": 4,
 "nbformat_minor": 2
}
