{
 "cells": [
  {
   "cell_type": "code",
   "execution_count": 2,
   "metadata": {
    "collapsed": true,
    "scrolled": true
   },
   "outputs": [],
   "source": [
    "# %load examples/basic_sqlite.py\n",
    "\"\"\"\n",
    "Simple poll app\n",
    "\"\"\"\n",
    "# built-in\n",
    "from datetime import datetime\n",
    "from pprint import pprint\n",
    "from contextlib import ExitStack\n",
    "\n",
    "# 3rd party\n",
    "import matplotlib.pyplot as plt\n",
    "\n",
    "# core\n",
    "from dorm.database.drivers.sqlite import Sqlite\n",
    "from dorm.database.drivers.mysql import Mysql"
   ]
  },
  {
   "cell_type": "code",
   "execution_count": 3,
   "metadata": {
    "collapsed": true
   },
   "outputs": [],
   "source": [
    "# %load config.py\n",
    "CLUSTERS = [\n",
    "    {'address':'127.0.0.1', 'name':'local_cluster_1', 'port':'40001'},\n",
    "    {'address':'127.0.0.1', 'name':'local_cluster_2', 'port':'40002'},\n",
    "    {'address':'127.0.0.1', 'name':'local_cluster_3', 'port':'40003'},\n",
    "    {'address':'127.0.0.1', 'name':'local_cluster_4', 'port':'40004'},\n",
    "]\n",
    "\n",
    "DATABASES = {\n",
    "    'sqlite': [\n",
    "        {'database_name': 'datastore/poll_1.db'},\n",
    "        {'database_name': 'datastore/poll_2.db'},\n",
    "        {'database_name': 'datastore/poll_3.db'},\n",
    "        {'database_name': 'datastore/poll_4.db'},\n",
    "        {'database_name': 'datastore/poll_5.db'},\n",
    "        {'database_name': 'datastore/poll_6.db'},\n",
    "        {'database_name': 'datastore/poll_7.db'},\n",
    "        {'database_name': 'datastore/poll_8.db'},\n",
    "        {'database_name': 'datastore/poll_9.db'},\n",
    "        {'database_name': 'datastore/poll_10.db'}\n",
    "    ],\n",
    "    'postgres': [\n",
    "        {'database_name': 'test',\n",
    "         'user': 'postgres',\n",
    "         'password':'mysecretpassword',\n",
    "         'host':'127.0.0.1',\n",
    "         'port': 5432\n",
    "        },\n",
    "    ],\n",
    "    'mysql': [\n",
    "        {'database_name': 'employees',\n",
    "         'user': 'root',\n",
    "         'password':'mysecretpassword',\n",
    "         'host':'127.0.0.1',\n",
    "         'port': 3306\n",
    "        },\n",
    "    ]\n",
    "}\n",
    "\n",
    "# sudo docker run --name dorm_test_mysql -p 3306:3306 -e MYSQL_ROOT_PASSWORD=mysecretpassword -d mysql\n",
    "# sudo docker run --name dorm_postgres -p 5432:5432  -e  POSTGRES_PASSWORD=mysecretpassword -d postgres\n"
   ]
  },
  {
   "cell_type": "raw",
   "metadata": {},
   "source": [
    "\n",
    "sql = \"\"\"select table_schema,table_name,table_rows from information_schema.tables WHERE table_schema \n",
    "NOT IN ( 'information_schema', 'sys', 'performance_schema', 'mysql' );\"\"\"\n",
    "sql2 = \"\"\"SHOW TABLE STATUS LIKE '%';\"\"\"\n",
    "f = my.execute(sql2, commit=True)"
   ]
  },
  {
   "cell_type": "markdown",
   "metadata": {
    "collapsed": true
   },
   "source": [
    "## SQLite"
   ]
  },
  {
   "cell_type": "code",
   "execution_count": 4,
   "metadata": {},
   "outputs": [],
   "source": [
    "db = Sqlite(DATABASES['sqlite'][0])"
   ]
  },
  {
   "cell_type": "code",
   "execution_count": null,
   "metadata": {
    "collapsed": true
   },
   "outputs": [],
   "source": []
  },
  {
   "cell_type": "code",
   "execution_count": 5,
   "metadata": {
    "collapsed": true
   },
   "outputs": [],
   "source": [
    "def get_table_structure(tq):\n",
    "    tables = []\n",
    "    q = \"SELECT sql FROM sqlite_master;\"\n",
    "    tqs = db.execute(q).fetchall()\n",
    "    for tq in tqs:\n",
    "        t = tq[0].replace(\"CREATE TABLE \", \"\")\n",
    "        table_name = t[:t.find(\" \")]\n",
    "        columns = t[t.find(\" \"):].strip()[1:-1].split(\", \")\n",
    "        tables.append({table_name:columns})\n",
    "    return tables"
   ]
  },
  {
   "cell_type": "code",
   "execution_count": 6,
   "metadata": {},
   "outputs": [
    {
     "name": "stdout",
     "output_type": "stream",
     "text": [
      "'SELECT sql FROM sqlite_master;'\n"
     ]
    }
   ],
   "source": [
    "tdl = get_table_structure(db)"
   ]
  },
  {
   "cell_type": "code",
   "execution_count": 7,
   "metadata": {},
   "outputs": [
    {
     "data": {
      "text/plain": [
       "[{'question': ['id INTEGER NOT NULL PRIMARY KEY',\n",
       "   'question_text CHAR(200)',\n",
       "   'pub_date TIMESTAMP']},\n",
       " {'choice': ['votes INTEGER',\n",
       "   'id INTEGER NOT NULL PRIMARY KEY',\n",
       "   'question INTEGER NOT NULL REFERENCES question (id)',\n",
       "   'choice_text CHAR(200)']},\n",
       " {'testmodel': ['\"id\" INTEGER NOT NULL PRIMARY KEY',\n",
       "   '\"test_field\" CHAR(200)']}]"
      ]
     },
     "execution_count": 7,
     "metadata": {},
     "output_type": "execute_result"
    }
   ],
   "source": [
    "tdl"
   ]
  },
  {
   "cell_type": "code",
   "execution_count": 15,
   "metadata": {
    "collapsed": true
   },
   "outputs": [],
   "source": [
    "def build_model():\n",
    "    class_str = \"\"\"class {}(models.Model):\\n\"\"\"\n",
    "    field_str = \"\"\"    {} = models.{}({})\\n\"\"\"\n",
    "    code = \"\"\n",
    "    for structure in get_table_structure(db):\n",
    "        model=\"\"\n",
    "        for key, val in structure.items():\n",
    "\n",
    "            model = class_str.format(key.title())\n",
    "            for column in val:\n",
    "                extra = []\n",
    "                column = column.lower()\n",
    "                #extra.append(\"null=False\")\n",
    "                #extra.append(\"unique=False\")\n",
    "\n",
    "                field_name, field_type, *_ = column.split(\" \")\n",
    "                if \"(\" in field_type:\n",
    "                    extra.append(\"max_length=\"+field_type[field_type.find(\"(\")+1:field_type.find(\")\")])\n",
    "                    field_type = field_type[:field_type.find(\"(\")]\n",
    "                if \"primary key\" in column:\n",
    "                    model += field_str.format(field_name, \"PrimaryKey\", \", \".join(extra))\n",
    "                elif \"references\" in column:\n",
    "                    target_table = column[:column.find(\"REFERENCES \")].split(\" (\")[0].split(\" \")[0]\n",
    "                    extra.append(target_table.title())\n",
    "                    model += field_str.format(field_name, \"ForeignKey\", \", \".join(extra))\n",
    "                else:\n",
    "                    model += field_str.format(field_name, field_type.title(), \", \".join(extra))\n",
    "        code +=model\n",
    "    return code"
   ]
  },
  {
   "cell_type": "code",
   "execution_count": 16,
   "metadata": {},
   "outputs": [
    {
     "name": "stdout",
     "output_type": "stream",
     "text": [
      "'SELECT sql FROM sqlite_master;'\n",
      "class Question(models.Model):\n",
      "    id = models.PrimaryKey()\n",
      "    question_text = models.Char(max_length=200)\n",
      "    pub_date = models.Timestamp()\n",
      "class Choice(models.Model):\n",
      "    votes = models.Integer()\n",
      "    id = models.PrimaryKey()\n",
      "    question = models.ForeignKey(Question)\n",
      "    choice_text = models.Char(max_length=200)\n",
      "class Testmodel(models.Model):\n",
      "    \"id\" = models.PrimaryKey()\n",
      "    \"test_field\" = models.Char(max_length=200)\n",
      "\n"
     ]
    }
   ],
   "source": [
    "print(build_model())"
   ]
  },
  {
   "cell_type": "code",
   "execution_count": 9,
   "metadata": {},
   "outputs": [
    {
     "name": "stdout",
     "output_type": "stream",
     "text": [
      "class Question(models.Model):\n",
      "    id = models.PrimaryKey()\n",
      "    question_text = models.Char(max_length=200)\n",
      "    pub_date = models.Timestamp()\n",
      "\n",
      "class Choice(models.Model):\n",
      "    votes = models.Integer()\n",
      "    id = models.PrimaryKey()\n",
      "    question = models.ForeignKey(Question)\n",
      "    choice_text = models.Char(max_length=200)\n",
      "\n"
     ]
    }
   ],
   "source": [
    "print(ms)"
   ]
  },
  {
   "cell_type": "code",
   "execution_count": 10,
   "metadata": {
    "collapsed": true
   },
   "outputs": [],
   "source": [
    "from dorm.database import models"
   ]
  },
  {
   "cell_type": "code",
   "execution_count": 11,
   "metadata": {
    "collapsed": true
   },
   "outputs": [],
   "source": [
    "exec(ms)"
   ]
  },
  {
   "cell_type": "code",
   "execution_count": 12,
   "metadata": {},
   "outputs": [
    {
     "name": "stdout",
     "output_type": "stream",
     "text": [
      "'select * from choice;'\n",
      "'select * from choice;'\n"
     ]
    },
    {
     "data": {
      "text/plain": [
       "<generator object SelectQuery._execute.<locals>.<genexpr> at 0x7fcfe3aabbf8>"
      ]
     },
     "execution_count": 12,
     "metadata": {},
     "output_type": "execute_result"
    }
   ],
   "source": [
    "Choice.select().all()"
   ]
  },
  {
   "cell_type": "code",
   "execution_count": 13,
   "metadata": {},
   "outputs": [
    {
     "name": "stdout",
     "output_type": "stream",
     "text": [
      "'select * from question limit 1;'\n",
      "'select * from question limit 1;'\n"
     ]
    }
   ],
   "source": [
    "q1 = Question.select().first()"
   ]
  },
  {
   "cell_type": "code",
   "execution_count": 22,
   "metadata": {
    "collapsed": true
   },
   "outputs": [],
   "source": [
    "r1 = q1.update(id=1).set(question_text=\"How are you?\")"
   ]
  },
  {
   "cell_type": "code",
   "execution_count": 23,
   "metadata": {},
   "outputs": [
    {
     "data": {
      "text/plain": [
       "'update question set question_text=\"How are you?\" where id=\"1\"'"
      ]
     },
     "execution_count": 23,
     "metadata": {},
     "output_type": "execute_result"
    }
   ],
   "source": [
    "r1.sql"
   ]
  },
  {
   "cell_type": "code",
   "execution_count": null,
   "metadata": {
    "collapsed": true
   },
   "outputs": [],
   "source": []
  },
  {
   "cell_type": "code",
   "execution_count": null,
   "metadata": {
    "collapsed": true
   },
   "outputs": [],
   "source": []
  }
 ],
 "metadata": {
  "kernelspec": {
   "display_name": "Python 3",
   "language": "python",
   "name": "python3"
  },
  "language_info": {
   "codemirror_mode": {
    "name": "ipython",
    "version": 3
   },
   "file_extension": ".py",
   "mimetype": "text/x-python",
   "name": "python",
   "nbconvert_exporter": "python",
   "pygments_lexer": "ipython3",
   "version": "3.5.2"
  }
 },
 "nbformat": 4,
 "nbformat_minor": 2
}
