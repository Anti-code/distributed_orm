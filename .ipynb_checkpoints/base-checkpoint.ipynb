{
 "cells": [
  {
   "cell_type": "code",
   "execution_count": 1,
   "metadata": {
    "collapsed": true
   },
   "outputs": [],
   "source": [
    "#from ORM import database"
   ]
  },
  {
   "cell_type": "code",
   "execution_count": null,
   "metadata": {
    "collapsed": true
   },
   "outputs": [],
   "source": []
  },
  {
   "cell_type": "code",
   "execution_count": 41,
   "metadata": {
    "collapsed": true
   },
   "outputs": [],
   "source": [
    "# %load ORM/database.py\n",
    "\n",
    "\"\"\"\n",
    "    ORM for sqlite3 like Django ORM.\n",
    "\n",
    "    Usage:\n",
    "                >>>from datetime import datetime\n",
    "                >>>import database\n",
    "\n",
    "                >>>db = database.Sqlite('blog.db')\n",
    "\n",
    "                >>>class Post(db.Model):\n",
    "                ...    title = database.CharField(20)\n",
    "                ...    content = database.TextField()\n",
    "                ...    created_time = database.DateTimeField()\n",
    "\n",
    "                >>>db.create_table(Post)\n",
    "\n",
    "                >>>post = Post(title='post title', content='post content', created_time=datetime.now())\n",
    "                >>>post.save()\n",
    "\n",
    "                >>>post.id, post.title, post.content\n",
    "                Out: (5, 'post title', 'post content', datetime.datetime(2016, 1, 6, 17, 25, 37, 342000))\n",
    "\n",
    "\n",
    "                >>>print Post.select().where(id=5).all()\n",
    "                Out: [<Post post title>]\n",
    "\n",
    "    The ManyToManyField just like Django ManyToManyField:\n",
    "\n",
    "                >>>class Tag(db.Model):\n",
    "                ...    name = database.CharField(50)\n",
    "                ...    posts = database.ManyToManyField(Post)\n",
    "\n",
    "    When create table from class `Tag`, ORM will auto-create a table `post_tag` which referenced `Post` and `Tag`.\n",
    "    We can add tag to the post like this:\n",
    "\n",
    "                >>>tag = Tag(name='tag')\n",
    "                >>>tag.save()\n",
    "                >>>post.tags.add(tag)\n",
    "                >>>post.tags.all()\n",
    "                Out: [<Tag tag>]\n",
    "\n",
    "\"\"\"\n",
    "\n",
    "import sqlite3\n",
    "import threading\n",
    "\n",
    "\n",
    "encoding_type = 'utf-8'\n",
    "\n",
    "\n",
    "class Field(object):\n",
    "    def __init__(self, column_type):\n",
    "        self.column_type = column_type\n",
    "        self.name = None\n",
    "\n",
    "    def create_sql(self):\n",
    "        \"\"\"Return sql statement for create table.\"\"\"\n",
    "        return '\"{0}\" {1}'.format(self.name, self.column_type)\n",
    "\n",
    "\n",
    "class IntegerField(Field):\n",
    "    def __init__(self):\n",
    "        super(IntegerField, self).__init__('INTEGER')\n",
    "\n",
    "    def sql_format(self, data):\n",
    "        return str(int(data))\n",
    "\n",
    "\n",
    "class CharField(Field):\n",
    "    def __init__(self, max_lenth=255):\n",
    "        self.max_lenth = max_lenth\n",
    "        super(CharField, self).__init__('VARCHAR')\n",
    "\n",
    "    def create_sql(self):\n",
    "        return '\"{0}\" {1}({2})'.format(self.name, self.column_type, self.max_lenth)\n",
    "\n",
    "    def sql_format(self, data):\n",
    "        return '\"{0}\"'.format(str(data))\n",
    "\n",
    "\n",
    "class TextField(Field):\n",
    "    def __init__(self):\n",
    "        super(TextField, self).__init__('TEXT')\n",
    "\n",
    "    def sql_format(self, data):\n",
    "        return '\"{0}\"'.format(str(data))\n",
    "\n",
    "\n",
    "class DateTimeField(Field):\n",
    "    def __init__(self):\n",
    "        super(DateTimeField, self).__init__('DATETIME')\n",
    "\n",
    "    def sql_format(self, data):\n",
    "        return '\"{0}\"'.format(data.strftime('%Y-%m-%d %H:%M:%S'))\n",
    "\n",
    "\n",
    "class PrimaryKeyField(IntegerField):\n",
    "    def __init__(self):\n",
    "        super(PrimaryKeyField, self).__init__()\n",
    "\n",
    "    def create_sql(self):\n",
    "        return '\"{0}\" {1} NOT NULL PRIMARY KEY'.format(self.name, self.column_type)\n",
    "\n",
    "\n",
    "class ForeignKeyField(IntegerField):\n",
    "    def __init__(self, to_table):\n",
    "        self.to_table = to_table\n",
    "        super(ForeignKeyField, self).__init__()\n",
    "\n",
    "    def create_sql(self):\n",
    "        return '{column_name} {column_type} NOT NULL REFERENCES \"{tablename}\" (\"{to_column}\")'.format(\n",
    "            column_name=self.name,\n",
    "            column_type=self.column_type,\n",
    "            tablename=self.to_table,\n",
    "            to_column='id'\n",
    "        )\n",
    "\n",
    "\n",
    "class ForeignKeyReverseField(object):\n",
    "    def __init__(self, from_table):\n",
    "        self.from_table = from_table\n",
    "        self.name = None\n",
    "        self.tablename = None\n",
    "        self.instance_id = None\n",
    "        self.db = None\n",
    "        self.from_model = None\n",
    "        self.relate_column = None\n",
    "\n",
    "    def update_attr(self, name, tablename, db):\n",
    "        self.name = name\n",
    "        self.tablename = tablename\n",
    "        self.db = db\n",
    "        self.from_model = self.db.__tables__[self.from_table]\n",
    "        for k, v in self.from_model.__dict__.items():\n",
    "            if isinstance(v, ForeignKeyField) and v.to_table == self.tablename:\n",
    "                self.relate_column = k\n",
    "\n",
    "    def all(self):\n",
    "        return self._query_sql().all()\n",
    "\n",
    "    def count(self):\n",
    "        return self._query_sql().count()\n",
    "\n",
    "    def _query_sql(self):\n",
    "        return self.from_model.select().where(**{self.relate_column: self.instance_id})\n",
    "\n",
    "\n",
    "class ManyToManyFieldBase(object):\n",
    "    def __init__(self, to_model):\n",
    "        self.to_model = to_model\n",
    "\n",
    "        self.name = None\n",
    "        self.tablename = None\n",
    "        self.db = None\n",
    "\n",
    "        self.instance_id = None\n",
    "\n",
    "        self.relate_model = None\n",
    "        self.relate_table = None\n",
    "        self.relate_column = None\n",
    "        self.to_table = None\n",
    "        self.to_column = None\n",
    "\n",
    "    def update_attr(self, name, tablename, db):\n",
    "        self.name = name\n",
    "        self.tablename = tablename\n",
    "        self.db = db\n",
    "\n",
    "    def add(self, to_instance):\n",
    "        insert = {\n",
    "            self.relate_column: self.instance_id,\n",
    "            self.to_column: to_instance.id\n",
    "        }\n",
    "        self.relate_model(**insert).save()\n",
    "\n",
    "    def remove(self, to_instance):\n",
    "        self.relate_model.delete(**{self.to_column: to_instance.id}).commit()\n",
    "\n",
    "    def all(self):\n",
    "        return self._query_sql().all()\n",
    "\n",
    "    def count(self):\n",
    "        return self._query_sql().count()\n",
    "\n",
    "    def _query_sql(self):\n",
    "        self.to_model = self.db.__tables__[self.to_table]\n",
    "\n",
    "        relate_instances = self.relate_model.select().where(**{self.relate_column: self.instance_id}).all()\n",
    "        to_ids = [str(getattr(instance, self.to_column)) for instance in relate_instances]\n",
    "        where_sql = 'id in ({0})'.format(', '.join(to_ids))\n",
    "\n",
    "        return self.to_model.select().where(where_sql)\n",
    "\n",
    "\n",
    "class ManyToManyField(ManyToManyFieldBase):\n",
    "    def __init__(self, to_model):\n",
    "        super(ManyToManyField, self).__init__(to_model)\n",
    "\n",
    "    def update_attr(self, name, tablename, db):\n",
    "        super(ManyToManyField, self).update_attr(name, tablename, db)\n",
    "        if self.to_model not in self.db.__tables__.values():\n",
    "            raise DatabaseException('Related table \"{0}\" not exists'.format(self.to_model.__tablename__))\n",
    "\n",
    "        self.to_table = self.to_model.__tablename__\n",
    "        self.to_column = '{0}_id'.format(self.to_table)\n",
    "        self.relate_column = '{0}_id'.format(self.tablename)\n",
    "\n",
    "        class_name = '{0}_{1}'.format(self.to_table, self.tablename)\n",
    "        class_attrs = {\n",
    "            self.relate_column: ForeignKeyField(self.tablename),\n",
    "            self.to_column: ForeignKeyField(self.to_table)\n",
    "        }\n",
    "        m2m_model = type(class_name, (Model, ), class_attrs)\n",
    "\n",
    "        self.relate_model = m2m_model\n",
    "        self.relate_table = getattr(m2m_model, '__tablename__')\n",
    "        self.db.__tables__[self.relate_table] = m2m_model\n",
    "        self.create_reversed_field()\n",
    "\n",
    "    def create_m2m_table(self):\n",
    "        self.db.create_table(self.relate_model)\n",
    "        self.create_reversed_field()\n",
    "\n",
    "    def drop_m2m_table(self):\n",
    "        try:\n",
    "            table_model = self.db.__tables__[self.relate_table]\n",
    "        except KeyError:\n",
    "            raise DatabaseException('Can not drop this table: \"{0}\" not exists'.format(self.relate_table))\n",
    "        self.db.drop_table(table_model)\n",
    "        self.delete_reversed_field()\n",
    "\n",
    "    def create_reversed_field(self):\n",
    "        field = ManyToManyFieldBase(self.db.__tables__[self.tablename])\n",
    "        field.db = self.db\n",
    "        field.name = '{0}s'.format(self.tablename)\n",
    "        field.to_table, field.tablename = self.tablename, self.to_table\n",
    "        field.to_column, field.relate_column = self.relate_column, self.to_column\n",
    "        field.relate_model, field.relate_table = self.relate_model, self.relate_table\n",
    "\n",
    "        setattr(self.to_model, field.name, field)\n",
    "        self.to_model.__refed_fields__[field.name] = field\n",
    "\n",
    "    def delete_reversed_field(self):\n",
    "        to_column = '{0}s'.format(self.tablename)\n",
    "        delattr(self.to_model, to_column)\n",
    "        del self.to_model.__refed_fields__[to_column]\n",
    "\n",
    "\n",
    "class MetaModel(type):\n",
    "    def __new__(mcs, name, bases, attrs):\n",
    "        if name == 'Model':\n",
    "            return super(MetaModel, mcs).__new__(mcs, name, bases, attrs)\n",
    "\n",
    "        cls = super(MetaModel, mcs).__new__(mcs, name, bases, attrs)\n",
    "\n",
    "        if 'Meta' not in attrs.keys() or not hasattr(attrs['Meta'], 'db_table'):\n",
    "            setattr(cls, '__tablename__', name.lower())\n",
    "            print(name.lower())\n",
    "        else:\n",
    "            setattr(cls, '__tablename__', attrs['Meta'].db_table)\n",
    "\n",
    "        if hasattr(cls, '__db__'):\n",
    "            getattr(cls, '__db__').__tables__[cls.__tablename__] = cls\n",
    "\n",
    "        fields = {}\n",
    "        refed_fields = {}\n",
    "        has_primary_key = False\n",
    "        for field_name, field in cls.__dict__.items():\n",
    "            if isinstance(field, ForeignKeyReverseField) or isinstance(field, ManyToManyField):\n",
    "                field.update_attr(field_name, cls.__tablename__, cls.__db__)\n",
    "                refed_fields[field_name] = field\n",
    "            if isinstance(field, Field):\n",
    "                field.name = field_name\n",
    "                fields[field_name] = field\n",
    "                if isinstance(field, PrimaryKeyField):\n",
    "                    has_primary_key = True\n",
    "\n",
    "        if not has_primary_key:\n",
    "            pk = PrimaryKeyField()\n",
    "            pk.name = 'id'\n",
    "            fields['id'] = pk\n",
    "\n",
    "        setattr(cls, '__fields__', fields)\n",
    "        setattr(cls, '__refed_fields__', refed_fields)\n",
    "        return cls\n",
    "\n",
    "\n",
    "class DatabaseException(Exception):\n",
    "    pass\n",
    "\n",
    "\n",
    "class Model(metaclass=MetaModel):\n",
    "    __metaclass__ = MetaModel\n",
    "\n",
    "    def __init__(self, **kwargs):\n",
    "        for name, field in kwargs.items():\n",
    "            if name not in self.__fields__.keys():\n",
    "                raise DatabaseException('Unknown column: {0}'.format(name))\n",
    "            setattr(self, name, field)\n",
    "\n",
    "        super(Model, self).__init__()\n",
    "\n",
    "    @classmethod\n",
    "    def get(cls, **kwargs):\n",
    "        return SelectQuery(cls).where(**kwargs).first()\n",
    "\n",
    "    @classmethod\n",
    "    def select(cls, *args):\n",
    "        return SelectQuery(cls, *args)\n",
    "\n",
    "    @classmethod\n",
    "    def update(cls, *args, **kwargs):\n",
    "        return UpdateQuery(cls, *args, **kwargs)\n",
    "\n",
    "    @classmethod\n",
    "    def delete(cls, *args, **kwargs):\n",
    "        return DeleteQuery(cls, *args, **kwargs)\n",
    "\n",
    "    def save(self):\n",
    "        base_query = 'insert into {tablename}({columns}) values({items});'\n",
    "        columns = []\n",
    "        values = []\n",
    "        for field_name, field_model in self.__fields__.items():\n",
    "            if hasattr(self, field_name) and not isinstance(getattr(self, field_name), Field):\n",
    "                columns.append(field_name)\n",
    "                values.append(field_model.sql_format(getattr(self, field_name)))\n",
    "\n",
    "        sql = base_query.format(\n",
    "            tablename=self.__tablename__,\n",
    "            columns=', '.join(columns),\n",
    "            items=', '.join(values)\n",
    "        )\n",
    "        cursor = self.__db__.execute(sql=sql, commit=True)\n",
    "        self.id = cursor.lastrowid\n",
    "\n",
    "        for name, field in self.__refed_fields__.items():\n",
    "            if isinstance(field, ForeignKeyReverseField) or isinstance(field, ManyToManyFieldBase):\n",
    "                field.instance_id = self.id\n",
    "\n",
    "\n",
    "class Sqlite(threading.local):\n",
    "    def __init__(self, database):\n",
    "        super(Sqlite, self).__init__()\n",
    "        self.database = database\n",
    "        self.conn = sqlite3.connect(self.database, detect_types=sqlite3.PARSE_DECLTYPES | sqlite3.PARSE_COLNAMES)\n",
    "\n",
    "        self.__tables__ = {}\n",
    "        setattr(self, 'Model', Model)\n",
    "        setattr(self.Model, '__db__', self)\n",
    "\n",
    "    def create_table(self, model):\n",
    "        tablename = model.__tablename__\n",
    "        create_sql = ', '.join(field.create_sql() for field in model.__fields__.values())\n",
    "        self.execute('create table {0} ({1});'.format(tablename, create_sql), commit=True)\n",
    "\n",
    "        if tablename not in self.__tables__.keys():\n",
    "            self.__tables__[tablename] = model\n",
    "\n",
    "        for field in model.__refed_fields__.values():\n",
    "            if isinstance(field, ManyToManyField):\n",
    "                field.create_m2m_table()\n",
    "\n",
    "    def drop_table(self, model):\n",
    "        tablename = model.__tablename__\n",
    "        self.execute('drop table {0};'.format(tablename), commit=True)\n",
    "        del self.__tables__[tablename]\n",
    "\n",
    "        for name, field in model.__refed_fields__.items():\n",
    "            if isinstance(field, ManyToManyField):\n",
    "                field.drop_m2m_table()\n",
    "\n",
    "    def commit(self):\n",
    "        self.conn.commit()\n",
    "\n",
    "    def rollback(self):\n",
    "        self.conn.rollback()\n",
    "\n",
    "    def close(self):\n",
    "        self.conn.close()\n",
    "\n",
    "    def execute(self, sql, commit=False):\n",
    "        cursor = self.conn.cursor()\n",
    "        print(sql)\n",
    "        cursor.execute(sql)\n",
    "        if commit:\n",
    "            self.commit()\n",
    "        return cursor\n",
    "\n",
    "\n",
    "class SelectQuery(object):\n",
    "    \"\"\" select title, content from post where id = 1 and title = \"my title\";\n",
    "        select title, content from post where id > 3;\n",
    "    \"\"\"\n",
    "\n",
    "    def __init__(self, model, *args):\n",
    "        self.model = model\n",
    "        self.base_sql = 'select {columns} from {tablename};'\n",
    "\n",
    "        query_args = list(args) if list(args) else ['*']\n",
    "        self.query = ', '.join([str(column) for column in query_args])\n",
    "\n",
    "    @property\n",
    "    def sql(self):\n",
    "        return self.base_sql.format(\n",
    "            columns=self.query,\n",
    "            tablename=self.model.__tablename__\n",
    "        )\n",
    "\n",
    "    def all(self):\n",
    "        return self._execute(self.sql)\n",
    "\n",
    "    def first(self):\n",
    "        self.base_sql = '{0} limit 1;'.format(self.base_sql.rstrip(';'))\n",
    "        return self._execute(self.sql)[0]\n",
    "\n",
    "    def where(self, *args, **kwargs):\n",
    "        where_list = []\n",
    "        for k, v in kwargs.items():\n",
    "            where_list.append('{0}=\"{1}\"'.format(k, str(v)))\n",
    "        where_list.extend(list(args))\n",
    "\n",
    "        self.base_sql = '{0} where {1};'.format(self.base_sql.rstrip(';'), ' and '.join(where_list))\n",
    "        return self\n",
    "\n",
    "  \n",
    "    def _base_function(self, func):\n",
    "        sql = self.base_sql.format(\n",
    "            columns='{0}({1})'.format(func, self.query),\n",
    "            tablename=self.model.__tablename__\n",
    "        )\n",
    "        cursor = self.model.__db__.execute(sql=sql, commit=True)\n",
    "        record = cursor.fetchone()\n",
    "        return record[0]\n",
    "\n",
    "    def count(self):\n",
    "        return self._base_function('count')\n",
    "\n",
    "    def max(self):\n",
    "        \"\"\"\n",
    "        Post.select('id').max()\n",
    "        \"\"\"\n",
    "        return self._base_function('max')\n",
    "\n",
    "    def min(self):\n",
    "        return self._base_function('min')\n",
    "\n",
    "    def avg(self):\n",
    "        return self._base_function('avg')\n",
    "\n",
    "    def sum(self):\n",
    "        return self._base_function('sum')\n",
    "\n",
    "    def orderby(self, column, order='desc'):\n",
    "        \"\"\"\n",
    "        Post.select().orderby('id', 'desc').all()\n",
    "        \"\"\"\n",
    "        self.base_sql = '{0} order by {1} {2};'.format(self.base_sql.rstrip(';'), column, order)\n",
    "        print(self)\n",
    "        return self\n",
    "\n",
    "    def like(self, pattern):\n",
    "        \"\"\"\n",
    "        Post.select('id').where('content').like('%cont%')\n",
    "        \"\"\"\n",
    "        if 'where' not in self.base_sql:\n",
    "            raise DatabaseException('Like query must have a where clause before')\n",
    "\n",
    "        self.base_sql = '{0} like \"{1}\";'.format(self.base_sql.rstrip(';'), pattern)\n",
    "        return self\n",
    "\n",
    "    def _execute(self, sql):\n",
    "        cursor = self.model.__db__.execute(sql)\n",
    "        descriptor = list(i[0] for i in cursor.description)\n",
    "        records = cursor.fetchall()\n",
    "        query_set = [self._make_instance(descriptor, map(unicode_str, record)) for record in records]\n",
    "        return query_set\n",
    "\n",
    "    def _make_instance(self, descriptor, record):\n",
    "        try:\n",
    "            instance = self.model(**dict(zip(descriptor, record)))\n",
    "        except TypeError:\n",
    "            return None\n",
    "\n",
    "        for name, field in instance.__refed_fields__.items():\n",
    "            if isinstance(field, ForeignKeyReverseField) or isinstance(field, ManyToManyFieldBase):\n",
    "                field.instance_id = instance.id\n",
    "\n",
    "        return instance\n",
    "\n",
    "\n",
    "class UpdateQuery(object):\n",
    "    def __init__(self, model, *args, **kwargs):\n",
    "        self.model = model\n",
    "        self.base_sql = 'update {tablename} set {update_columns};'\n",
    "        self.update_list = []\n",
    "        self.where_list = list(*args)\n",
    "        for k, v in kwargs.items():\n",
    "            self.where_list.append('{0}=\"{1}\"'.format(k, v))\n",
    "\n",
    "        if self.where_list:\n",
    "            self.base_sql = '{0} where {1}'.format(self.base_sql.rstrip(';'), ' and '.join(self.where_list))\n",
    "\n",
    "    def set(self, **kwargs):\n",
    "        for k, v in kwargs.items():\n",
    "            self.update_list.append('{0}=\"{1}\"'.format(k, v))\n",
    "        return self\n",
    "\n",
    "    @property\n",
    "    def sql(self):\n",
    "        return self.base_sql.format(\n",
    "            tablename=self.model.__tablename__,\n",
    "            update_columns=' and '.join(self.update_list)\n",
    "        )\n",
    "\n",
    "    def commit(self):\n",
    "        return self.model.__db__.execute(sql=self.sql, commit=True)\n",
    "\n",
    "\n",
    "class DeleteQuery(object):\n",
    "    def __init__(self, model, *args, **kwargs):\n",
    "        self.model = model\n",
    "        self.sql = 'delete from {0};'.format(self.model.__tablename__)\n",
    "        where_list = list(args)\n",
    "        for k, v in kwargs.items():\n",
    "            where_list.append('{0}=\"{1}\"'.format(k, v))\n",
    "\n",
    "        if where_list:\n",
    "            self.sql = '{0} where {1}'.format(self.sql.rstrip(';'), ' and '.join(where_list))\n",
    "\n",
    "    def commit(self):\n",
    "        return self.model.__db__.execute(sql=self.sql, commit=True)\n",
    "\n",
    "\n",
    "def unicode_str(s):\n",
    "    return s.encode(encoding_type) if isinstance(s, str) else s"
   ]
  },
  {
   "cell_type": "code",
   "execution_count": 42,
   "metadata": {
    "collapsed": true
   },
   "outputs": [],
   "source": [
    "db = Sqlite('foo_2.db')"
   ]
  },
  {
   "cell_type": "code",
   "execution_count": 43,
   "metadata": {
    "collapsed": true
   },
   "outputs": [],
   "source": [
    "import pandas as pd"
   ]
  },
  {
   "cell_type": "code",
   "execution_count": 44,
   "metadata": {},
   "outputs": [
    {
     "name": "stdout",
     "output_type": "stream",
     "text": [
      "tag\n",
      "post\n",
      "tag_post\n"
     ]
    }
   ],
   "source": [
    "class Tag(Model):\n",
    "    name = CharField(200)\n",
    "    \n",
    "class Post(Model):\n",
    "    title = CharField(200)\n",
    "    content = TextField()\n",
    "    pub_date = DateTimeField()\n",
    "    tags = ManyToManyField(Tag)\n",
    "    \n",
    "    def as_df(self):\n",
    "        df = pd.DataFrame(columns=list(vars(self).keys()))\n",
    "        return df"
   ]
  },
  {
   "cell_type": "code",
   "execution_count": 45,
   "metadata": {},
   "outputs": [
    {
     "name": "stdout",
     "output_type": "stream",
     "text": [
      "create table post (\"pub_date\" DATETIME, \"title\" VARCHAR(200), \"content\" TEXT, \"id\" INTEGER NOT NULL PRIMARY KEY);\n"
     ]
    }
   ],
   "source": [
    "try:\n",
    "    db.create_table(Post)\n",
    "    db.create_table(Tag)\n",
    "except Exception:\n",
    "    pass"
   ]
  },
  {
   "cell_type": "code",
   "execution_count": 46,
   "metadata": {
    "collapsed": true
   },
   "outputs": [],
   "source": [
    "from datetime import datetime"
   ]
  },
  {
   "cell_type": "code",
   "execution_count": 47,
   "metadata": {},
   "outputs": [
    {
     "name": "stdout",
     "output_type": "stream",
     "text": [
      "insert into tag(name) values(\"Web pentest\");\n"
     ]
    }
   ],
   "source": [
    "tag = Tag(name=\"Web pentest\")\n",
    "tag.save()"
   ]
  },
  {
   "cell_type": "code",
   "execution_count": 48,
   "metadata": {
    "collapsed": true
   },
   "outputs": [],
   "source": [
    "post = Post(title='post title', content='post content', pub_date=datetime.now())"
   ]
  },
  {
   "cell_type": "code",
   "execution_count": 49,
   "metadata": {},
   "outputs": [
    {
     "name": "stdout",
     "output_type": "stream",
     "text": [
      "insert into post(pub_date, title, content) values(\"2017-05-06 14:32:38\", \"post title\", \"post content\");\n"
     ]
    }
   ],
   "source": [
    "post.save()"
   ]
  },
  {
   "cell_type": "code",
   "execution_count": 50,
   "metadata": {},
   "outputs": [
    {
     "name": "stdout",
     "output_type": "stream",
     "text": [
      "insert into tag_post(post_id, tag_id) values(9, 11);\n"
     ]
    }
   ],
   "source": [
    "post.tags.add(tag)"
   ]
  },
  {
   "cell_type": "code",
   "execution_count": 56,
   "metadata": {},
   "outputs": [
    {
     "name": "stdout",
     "output_type": "stream",
     "text": [
      "select * from post;\n"
     ]
    }
   ],
   "source": [
    "x = post.select().all()"
   ]
  },
  {
   "cell_type": "code",
   "execution_count": 58,
   "metadata": {},
   "outputs": [],
   "source": [
    "b = x[0]"
   ]
  },
  {
   "cell_type": "code",
   "execution_count": 61,
   "metadata": {},
   "outputs": [
    {
     "data": {
      "text/plain": [
       "dict_values([b'post title', b'post content', 1, b'2017-05-05 01:02:57'])"
      ]
     },
     "execution_count": 61,
     "metadata": {},
     "output_type": "execute_result"
    }
   ],
   "source": []
  },
  {
   "cell_type": "code",
   "execution_count": 55,
   "metadata": {},
   "outputs": [],
   "source": [
    "def to_df(model_list):\n",
    "    colum_names = list(vars(model_list[0]).keys())\n",
    "    df = pd.DataFrame(columns=colum_names)\n",
    "    return df\n",
    "    "
   ]
  },
  {
   "cell_type": "code",
   "execution_count": 10,
   "metadata": {},
   "outputs": [
    {
     "name": "stdout",
     "output_type": "stream",
     "text": [
      "Requirement already satisfied: sanic in /media/fool/lin/scientific_orm/env/lib/python3.5/site-packages\n",
      "Requirement already satisfied: websockets>=3.2 in /media/fool/lin/scientific_orm/env/lib/python3.5/site-packages (from sanic)\n",
      "Requirement already satisfied: httptools>=0.0.9 in /media/fool/lin/scientific_orm/env/lib/python3.5/site-packages (from sanic)\n",
      "Requirement already satisfied: aiofiles>=0.3.0 in /media/fool/lin/scientific_orm/env/lib/python3.5/site-packages (from sanic)\n",
      "Requirement already satisfied: uvloop>=0.5.3 in /media/fool/lin/scientific_orm/env/lib/python3.5/site-packages (from sanic)\n",
      "Requirement already satisfied: ujson>=1.35 in /media/fool/lin/scientific_orm/env/lib/python3.5/site-packages (from sanic)\n"
     ]
    }
   ],
   "source": [
    "!pip install sanic"
   ]
  },
  {
   "cell_type": "code",
   "execution_count": 12,
   "metadata": {
    "collapsed": true
   },
   "outputs": [],
   "source": [
    "from sanic import Sanic\n",
    "from sanic.response import json\n",
    "\n",
    "app = Sanic()\n",
    "\n",
    "@app.route(\"/post/<_id>\", methods=['GET', 'POST'])\n",
    "async def test(request, _id):\n",
    "    q = Post.select().where(id=_id).all() # select * from Post\n",
    "    return json(q)"
   ]
  },
  {
   "cell_type": "code",
   "execution_count": 13,
   "metadata": {},
   "outputs": [
    {
     "name": "stderr",
     "output_type": "stream",
     "text": [
      "2017-05-05 10:37:25,933: INFO: Goin' Fast @ http://0.0.0.0:8000\n",
      "2017-05-05 10:37:26,013: INFO: Starting worker [3889]\n",
      "2017-05-05 10:37:29,551: ERROR: Traceback (most recent call last):\n",
      "  File \"/media/fool/lin/scientific_orm/env/lib/python3.5/site-packages/sanic/app.py\", line 456, in handle_request\n",
      "    handler, args, kwargs = self.router.get(request)\n",
      "  File \"/media/fool/lin/scientific_orm/env/lib/python3.5/site-packages/sanic/router.py\", line 290, in get\n",
      "    return self._get(request.path, request.method, '')\n",
      "  File \"/media/fool/lin/scientific_orm/env/lib/python3.5/site-packages/sanic/router.py\", line 339, in _get\n",
      "    raise NotFound('Requested URL {} not found'.format(url))\n",
      "sanic.exceptions.NotFound: Requested URL / not found\n",
      "\n",
      "2017-05-05 10:37:29,629: ERROR: Traceback (most recent call last):\n",
      "  File \"/media/fool/lin/scientific_orm/env/lib/python3.5/site-packages/sanic/app.py\", line 456, in handle_request\n",
      "    handler, args, kwargs = self.router.get(request)\n",
      "  File \"/media/fool/lin/scientific_orm/env/lib/python3.5/site-packages/sanic/router.py\", line 290, in get\n",
      "    return self._get(request.path, request.method, '')\n",
      "  File \"/media/fool/lin/scientific_orm/env/lib/python3.5/site-packages/sanic/router.py\", line 339, in _get\n",
      "    raise NotFound('Requested URL {} not found'.format(url))\n",
      "sanic.exceptions.NotFound: Requested URL /favicon.ico not found\n",
      "\n",
      "2017-05-05 10:37:36,806: INFO: Stopping worker [3889]\n",
      "2017-05-05 10:37:36,908: INFO: Server Stopped\n"
     ]
    }
   ],
   "source": [
    "app.run(host=\"0.0.0.0\", port=8000)"
   ]
  },
  {
   "cell_type": "code",
   "execution_count": null,
   "metadata": {
    "collapsed": true
   },
   "outputs": [],
   "source": [
    "import requests\n",
    "from multiprocessing import Process"
   ]
  },
  {
   "cell_type": "code",
   "execution_count": null,
   "metadata": {
    "collapsed": true
   },
   "outputs": [],
   "source": [
    "from sanic.request import Request"
   ]
  },
  {
   "cell_type": "code",
   "execution_count": null,
   "metadata": {
    "collapsed": true
   },
   "outputs": [],
   "source": [
    "help(Request)"
   ]
  },
  {
   "cell_type": "code",
   "execution_count": null,
   "metadata": {
    "collapsed": true
   },
   "outputs": [],
   "source": [
    "from sanic.request import Request"
   ]
  },
  {
   "cell_type": "code",
   "execution_count": null,
   "metadata": {
    "collapsed": true
   },
   "outputs": [],
   "source": [
    "p.start()"
   ]
  },
  {
   "cell_type": "code",
   "execution_count": null,
   "metadata": {
    "collapsed": true
   },
   "outputs": [],
   "source": [
    "p.terminate()"
   ]
  },
  {
   "cell_type": "code",
   "execution_count": null,
   "metadata": {
    "collapsed": true
   },
   "outputs": [],
   "source": [
    "p.is_alive()"
   ]
  },
  {
   "cell_type": "code",
   "execution_count": null,
   "metadata": {
    "collapsed": true
   },
   "outputs": [],
   "source": []
  }
 ],
 "metadata": {
  "kernelspec": {
   "display_name": "Python 3",
   "language": "python",
   "name": "python3"
  },
  "language_info": {
   "codemirror_mode": {
    "name": "ipython",
    "version": 3
   },
   "file_extension": ".py",
   "mimetype": "text/x-python",
   "name": "python",
   "nbconvert_exporter": "python",
   "pygments_lexer": "ipython3",
   "version": "3.5.2"
  }
 },
 "nbformat": 4,
 "nbformat_minor": 2
}
